{
  "cells": [
    {
      "cell_type": "code",
      "execution_count": 1,
      "metadata": {
        "id": "rRKtEAfrHQlu"
      },
      "outputs": [],
      "source": [
        "import os\n",
        "\n",
        "os.environ['OPENAI_API_KEY'] = '****'\n",
        "os.environ['LANGCHAIN_API_KEY'] = '****'\n",
        "os.environ['LANGCHAIN_TRACING_V2'] = 'true'\n",
        "os.environ['LANGCHAIN_ENDPOINT'] = 'https://api.smith.langchain.com'\n",
        "os.environ['LANGCHAIN_PROJECT'] = '08-02'"
      ]
    },
    {
      "cell_type": "markdown",
      "metadata": {
        "id": "2UfRwMH5ItUu"
      },
      "source": [
        "### 1. 비휘발성 데이터 생성"
      ]
    },
    {
      "cell_type": "code",
      "execution_count": 2,
      "metadata": {
        "colab": {
          "base_uri": "https://localhost:8080/"
        },
        "id": "Ft4rMyO5H1Lc",
        "outputId": "3ecbabe7-91d1-44e9-bb1e-8511bd75c7f6"
      },
      "outputs": [
        {
          "name": "stdout",
          "output_type": "stream",
          "text": [
            "\u001b[?25l   \u001b[90m━━━━━━━━━━━━━━━━━━━━━━━━━━━━━━━━━━━━━━━━\u001b[0m \u001b[32m0.0/54.3 kB\u001b[0m \u001b[31m?\u001b[0m eta \u001b[36m-:--:--\u001b[0m\r\u001b[2K   \u001b[90m━━━━━━━━━━━━━━━━━━━━━━━━━━━━━━━━━━━━━━━━\u001b[0m \u001b[32m54.3/54.3 kB\u001b[0m \u001b[31m2.3 MB/s\u001b[0m eta \u001b[36m0:00:00\u001b[0m\n",
            "\u001b[2K   \u001b[90m━━━━━━━━━━━━━━━━━━━━━━━━━━━━━━━━━━━━━━━━\u001b[0m \u001b[32m2.5/2.5 MB\u001b[0m \u001b[31m34.3 MB/s\u001b[0m eta \u001b[36m0:00:00\u001b[0m\n",
            "\u001b[2K   \u001b[90m━━━━━━━━━━━━━━━━━━━━━━━━━━━━━━━━━━━━━━━━\u001b[0m \u001b[32m27.5/27.5 MB\u001b[0m \u001b[31m46.1 MB/s\u001b[0m eta \u001b[36m0:00:00\u001b[0m\n",
            "\u001b[2K   \u001b[90m━━━━━━━━━━━━━━━━━━━━━━━━━━━━━━━━━━━━━━━━\u001b[0m \u001b[32m411.9/411.9 kB\u001b[0m \u001b[31m22.3 MB/s\u001b[0m eta \u001b[36m0:00:00\u001b[0m\n",
            "\u001b[2K   \u001b[90m━━━━━━━━━━━━━━━━━━━━━━━━━━━━━━━━━━━━━━━━\u001b[0m \u001b[32m1.2/1.2 MB\u001b[0m \u001b[31m32.4 MB/s\u001b[0m eta \u001b[36m0:00:00\u001b[0m\n",
            "\u001b[2K   \u001b[90m━━━━━━━━━━━━━━━━━━━━━━━━━━━━━━━━━━━━━━━━\u001b[0m \u001b[32m49.6/49.6 kB\u001b[0m \u001b[31m3.3 MB/s\u001b[0m eta \u001b[36m0:00:00\u001b[0m\n",
            "\u001b[?25h"
          ]
        }
      ],
      "source": [
        "!pip install -qU langchain_openai langchain_community faiss-cpu"
      ]
    },
    {
      "cell_type": "code",
      "execution_count": 12,
      "metadata": {
        "id": "12a15OApJ7LW"
      },
      "outputs": [],
      "source": [
        "from langchain.storage import LocalFileStore\n",
        "from langchain_openai import OpenAIEmbeddings\n",
        "from langchain.embeddings import CacheBackedEmbeddings\n",
        "from langchain.vectorstores import FAISS\n",
        "\n",
        "#OpenAI 임베딩을 사용하여 기본 임베딩 설정\n",
        "embedding = OpenAIEmbeddings(model='text-embedding-3-large')\n",
        "\n",
        "#로컬 파일 저장소 설정\n",
        "store = LocalFileStore(\"./cache/\")\n",
        "\n",
        "#캐시를 지원하는 임베딩 생성\n",
        "cached_embedder = CacheBackedEmbeddings.from_bytes_store(\n",
        "  underlying_embeddings=embedding,\n",
        "  document_embedding_cache=store,\n",
        "  namespace=embedding.model, #기본 임베딩과 저장소를 사용하여 캐시 지원 임베딩을 생성\n",
        ")"
      ]
    },
    {
      "cell_type": "code",
      "execution_count": 13,
      "metadata": {
        "colab": {
          "base_uri": "https://localhost:8080/",
          "height": 36
        },
        "id": "XfZM0QrGK_ve",
        "outputId": "8ad5888e-4a16-4e0b-8de0-7c016648e462"
      },
      "outputs": [
        {
          "data": {
            "application/vnd.google.colaboratory.intrinsic+json": {
              "type": "string"
            },
            "text/plain": [
              "'text-embedding-ada-002'"
            ]
          },
          "execution_count": 13,
          "metadata": {},
          "output_type": "execute_result"
        }
      ],
      "source": [
        "OpenAIEmbeddings().model"
      ]
    },
    {
      "cell_type": "code",
      "execution_count": 14,
      "metadata": {
        "colab": {
          "base_uri": "https://localhost:8080/"
        },
        "id": "V5dHNPRhLuY7",
        "outputId": "65a5f389-5800-455b-8d0c-767e144b51ec"
      },
      "outputs": [
        {
          "data": {
            "text/plain": [
              "[]"
            ]
          },
          "execution_count": 14,
          "metadata": {},
          "output_type": "execute_result"
        }
      ],
      "source": [
        "# store에서 키들을 순차적으로 가져옴\n",
        "list(store.yield_keys())"
      ]
    },
    {
      "cell_type": "code",
      "execution_count": 15,
      "metadata": {
        "id": "blWtYdhcL2KF"
      },
      "outputs": [],
      "source": [
        "from langchain.document_loaders import TextLoader\n",
        "from langchain.text_splitter import CharacterTextSplitter\n",
        "\n",
        "#문서 로드\n",
        "raw_documents = TextLoader(\"/content/data/appendix-keywords.txt\").load()\n",
        "\n",
        "#문자 단위로 텍스트 분할 설정\n",
        "text_splitter = CharacterTextSplitter(chunk_size=1000, chunk_overlap=0)\n",
        "\n",
        "#문서 분할\n",
        "documents = text_splitter.split_documents(raw_documents)"
      ]
    },
    {
      "cell_type": "code",
      "execution_count": 27,
      "metadata": {
        "colab": {
          "base_uri": "https://localhost:8080/"
        },
        "id": "wgnx8IbUN-Cl",
        "outputId": "7aaeb4d8-5d31-4173-a1e3-0a0721fee8c6"
      },
      "outputs": [
        {
          "name": "stdout",
          "output_type": "stream",
          "text": [
            "CPU times: user 353 ms, sys: 49.5 ms, total: 402 ms\n",
            "Wall time: 1.96 s\n"
          ]
        }
      ],
      "source": [
        "%time db = FAISS.from_documents(documents, cached_embedder)"
      ]
    },
    {
      "cell_type": "code",
      "execution_count": 28,
      "metadata": {
        "colab": {
          "base_uri": "https://localhost:8080/"
        },
        "id": "3x4tLmomP2WT",
        "outputId": "90ab9315-80b1-44e9-a0f4-a171f31227df"
      },
      "outputs": [
        {
          "name": "stdout",
          "output_type": "stream",
          "text": [
            "CPU times: user 15.1 ms, sys: 788 µs, total: 15.9 ms\n",
            "Wall time: 17.1 ms\n"
          ]
        }
      ],
      "source": [
        "%time db2 = FAISS.from_documents(documents, cached_embedder)"
      ]
    },
    {
      "cell_type": "markdown",
      "metadata": {
        "id": "rO9Vx5-cTCol"
      },
      "source": [
        "### 2. 휘발성 DB 생성"
      ]
    },
    {
      "cell_type": "code",
      "execution_count": 36,
      "metadata": {
        "id": "9pdfw5p6TGbi"
      },
      "outputs": [],
      "source": [
        "from langchain.embeddings import CacheBackedEmbeddings\n",
        "from langchain.storage import InMemoryByteStore\n",
        "\n",
        "store = InMemoryByteStore()  # 메모리 내 바이트 저장소 생성\n",
        "\n",
        "# 캐시 지원 임베딩 생성\n",
        "cached_embedder = CacheBackedEmbeddings.from_bytes_store(\n",
        "    embedding, store, namespace=embedding.model\n",
        ")\n",
        "\n"
      ]
    },
    {
      "cell_type": "code",
      "execution_count": 37,
      "metadata": {
        "colab": {
          "base_uri": "https://localhost:8080/"
        },
        "id": "8V53hNj6Tssf",
        "outputId": "a1d490e1-4816-49b1-9019-762551cb1433"
      },
      "outputs": [
        {
          "data": {
            "text/plain": [
              "<langchain.embeddings.cache.CacheBackedEmbeddings at 0x7ff82957ac50>"
            ]
          },
          "execution_count": 37,
          "metadata": {},
          "output_type": "execute_result"
        }
      ],
      "source": [
        "cached_embedder"
      ]
    }
  ],
  "metadata": {
    "colab": {
      "provenance": []
    },
    "kernelspec": {
      "display_name": "Python 3",
      "name": "python3"
    },
    "language_info": {
      "name": "python"
    }
  },
  "nbformat": 4,
  "nbformat_minor": 0
}
